{
 "cells": [
  {
   "cell_type": "code",
   "execution_count": 5,
   "metadata": {},
   "outputs": [
    {
     "name": "stdout",
     "output_type": "stream",
     "text": [
      "b'<annotation>\\n  <folder>pic</folder>\\n  <filename>0000010.jpg</filename>\\n  <segmented>0</segmented>\\n  <size>\\n    <width>6000</width>\\n    <height>4000</height>\\n    <depth>3</depth>\\n  </size>\\n  <object>\\n    <name>lion</name>\\n    <pose>Unspecified</pose>\\n    <truncated>0</truncated>\\n    <difficult>0</difficult>\\n    <bndbox>\\n      <xmin>10</xmin>\\n      <ymin>10</ymin>\\n      <xmax>100</xmax>\\n      <ymax>100</ymax>\\n    </bndbox>\\n  </object>\\n</annotation>\\n'\n"
     ]
    }
   ],
   "source": [
    "import os\n",
    "import cv2\n",
    "from lxml import etree\n",
    "import xml.etree.cElementTree as ET\n",
    "\n",
    "\n",
    "# tl: top left; br: bottom right\n",
    "def writeXml(folder, img, objects, tl, br, saveDir):\n",
    "    if not os.path.isdir(saveDir):\n",
    "        os.mkdir(saveDir)\n",
    "\n",
    "    image = cv2.imread(img.path)\n",
    "    height, width, depth = image.shape\n",
    "\n",
    "    annotation = ET.Element('annotation')\n",
    "    ET.SubElement(annotation, 'folder').text = folder\n",
    "    ET.SubElement(annotation, 'filename').text = img.name\n",
    "    ET.SubElement(annotation, 'segmented').text = '0'\n",
    "    size = ET.SubElement(annotation, 'size')\n",
    "    ET.SubElement(size, 'width').text = str(width)\n",
    "    ET.SubElement(size, 'height').text = str(height)\n",
    "    ET.SubElement(size, 'depth').text = str(depth)\n",
    "\n",
    "    for obj, topl, botr in zip(objects, tl, br):\n",
    "        ob = ET.SubElement(annotation, 'object')\n",
    "        ET.SubElement(ob, 'name').text = obj\n",
    "        ET.SubElement(ob, 'pose').text = 'Unspecified'\n",
    "        ET.SubElement(ob, 'truncated').text = '0'\n",
    "        ET.SubElement(ob, 'difficult').text = '0'\n",
    "        \n",
    "        bbox = ET.SubElement(ob, 'bndbox')\n",
    "        ET.SubElement(bbox, 'xmin').text = str(topl[0])\n",
    "        ET.SubElement(bbox, 'ymin').text = str(topl[1])\n",
    "        ET.SubElement(bbox, 'xmax').text = str(botr[0])\n",
    "        ET.SubElement(bbox, 'ymax').text = str(botr[1])\n",
    "    \n",
    "    xmlStr = ET.tostring(annotation)\n",
    "    root = etree.fromstring(xmlStr)\n",
    "    xmlStr = etree.tostring(root, pretty_print=True)\n",
    "\n",
    "    save_path = os.path.join(saveDir, img.name.replace('jpg', 'xml'))\n",
    "    with open(save_path, 'wb') as temp_xml:\n",
    "        temp_xml.write(xmlStr)\n",
    "    return xmlStr\n",
    "\n",
    "\n",
    "if __name__ == '__main__':\n",
    "    folder = 'pic'\n",
    "    img = [im for im in os.scandir('pic') if '000001' in im.name][0]\n",
    "    objects = ['lion']\n",
    "    tl = [(10, 10)]\n",
    "    br = [(100, 100)]\n",
    "    saveDir = 'annotations'\n",
    "    xmlStr = writeXml(folder, img, objects, tl, br, saveDir)\n",
    "    print(xmlStr)"
   ]
  }
 ],
 "metadata": {
  "kernelspec": {
   "display_name": "Python 3",
   "language": "python",
   "name": "python3"
  },
  "language_info": {
   "codemirror_mode": {
    "name": "ipython",
    "version": 3
   },
   "file_extension": ".py",
   "mimetype": "text/x-python",
   "name": "python",
   "nbconvert_exporter": "python",
   "pygments_lexer": "ipython3",
   "version": "3.10.11"
  },
  "orig_nbformat": 4
 },
 "nbformat": 4,
 "nbformat_minor": 2
}
