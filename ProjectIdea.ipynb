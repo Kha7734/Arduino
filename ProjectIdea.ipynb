{
 "cells": [
  {
   "attachments": {},
   "cell_type": "markdown",
   "metadata": {},
   "source": [
    "# PROJECT NAME: CAMERA FOR MANAGING WAREHOUSE\n",
    "=============================================\n",
    "\n",
    "## Description:\n",
    "_ 2 objects: Oval & Rectangular.\n",
    "_ Count the number of obejcts bringging out by people.\n",
    "_ Detect Fire (Optional).\n",
    "_ Print 3D model.\n",
    "\n",
    "## GUIDELINE:\n",
    "_ Using ESP32 Camera board.\n",
    "_ Coding Python: OpenCV,...: Recognize stuff & persons. Count the number of object bringing out.\n",
    "_ Webpage + App for Managing: HTML + CSS + JS\n",
    "_ Using Code-red for app (Obligatory) or manually full coding app.\n"
   ]
  }
 ],
 "metadata": {
  "language_info": {
   "name": "python"
  },
  "orig_nbformat": 4
 },
 "nbformat": 4,
 "nbformat_minor": 2
}
