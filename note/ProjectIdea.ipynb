{
 "cells": [
  {
   "attachments": {},
   "cell_type": "markdown",
   "metadata": {},
   "source": [
    "# PROJECT NAME: CAMERA FOR MANAGING WAREHOUSE\n",
    "=============================================\n",
    "\n",
    "## Description:\n",
    "_ 2 objects: Oval & Rectangular.\n",
    "_ Count the number of obejcts bringging out by people.\n",
    "_ Detect Fire (Optional).\n",
    "_ Print 3D model.\n",
    "\n",
    "## GUIDELINE:\n",
    "_ Using ESP32 Camera board.\n",
    "_ Coding Python: OpenCV,...: Recognize stuff & persons. Count the number of object bringing out.\n",
    "_ Webpage + App for Managing: HTML + CSS + JS\n",
    "_ Using Code-red for app (Obligatory) or manually full coding app.\n",
    "_ Module Wifi for ESP32.\n",
    "\n",
    "## REFERENCE:\n",
    "_ https://youtu.be/A1SPJSVra9I: Video recognize object by Python & ESP32 Camera\n"
   ]
  },
  {
   "attachments": {},
   "cell_type": "markdown",
   "metadata": {},
   "source": []
  }
 ],
 "metadata": {
  "language_info": {
   "name": "python"
  },
  "orig_nbformat": 4
 },
 "nbformat": 4,
 "nbformat_minor": 2
}
